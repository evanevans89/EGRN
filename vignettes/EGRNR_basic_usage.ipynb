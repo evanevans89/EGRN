{
 "cells": [
  {
   "cell_type": "markdown",
   "metadata": {},
   "source": [
    "## Installation"
   ]
  },
  {
   "cell_type": "code",
   "execution_count": null,
   "metadata": {
    "vscode": {
     "languageId": "r"
    }
   },
   "outputs": [],
   "source": [
    "library(devtools)\n",
    "install_github(\"yayuzh05/EGRNR\")"
   ]
  },
  {
   "cell_type": "markdown",
   "metadata": {},
   "source": [
    "## Usage\n",
    "### Perform the algorithm on a single-cell dataset"
   ]
  },
  {
   "cell_type": "code",
   "execution_count": 1,
   "metadata": {
    "vscode": {
     "languageId": "r"
    }
   },
   "outputs": [
    {
     "data": {
      "text/html": [
       "<table class=\"dataframe\">\n",
       "<caption>A data.frame: 6 × 32</caption>\n",
       "<thead>\n",
       "\t<tr><th></th><th scope=col>pseudocell.gene_exprvalue</th><th scope=col>ca.distal.chr9_56613589_56613966</th><th scope=col>ca.distal.chr9_56620241_56621436</th><th scope=col>ca.distal.chr9_56635300_56637926</th><th scope=col>ca.distal.chr9_56638312_56639050</th><th scope=col>ca.distal.chr9_56646129_56647795</th><th scope=col>ca.distal.chr9_56656433_56657464</th><th scope=col>ca.distal.chr9_56657543_56658673</th><th scope=col>ca.distal.chr9_56662747_56663535</th><th scope=col>ca.distal.chr9_56669169_56670489</th><th scope=col>⋯</th><th scope=col>ca.distal.chr9_56753379_56754071</th><th scope=col>ca.distal.chr9_56797596_56798262</th><th scope=col>ca.distal.chr9_56869322_56870233</th><th scope=col>ca.distal.chr9_56884030_56884881</th><th scope=col>ca.distal.chr9_56895806_56896374</th><th scope=col>ca.distal.chr9_56981022_56982706</th><th scope=col>ca.distal.chr9_57031187_57032325</th><th scope=col>ca.prom.chr9_56795124_56797278</th><th scope=col>ctlCg.prom.chr9_56795364_56795527</th><th scope=col>ctlCg.prom.chr9_56795610_56797132</th></tr>\n",
       "\t<tr><th></th><th scope=col>&lt;fct&gt;</th><th scope=col>&lt;fct&gt;</th><th scope=col>&lt;fct&gt;</th><th scope=col>&lt;fct&gt;</th><th scope=col>&lt;fct&gt;</th><th scope=col>&lt;fct&gt;</th><th scope=col>&lt;fct&gt;</th><th scope=col>&lt;fct&gt;</th><th scope=col>&lt;fct&gt;</th><th scope=col>&lt;fct&gt;</th><th scope=col>⋯</th><th scope=col>&lt;fct&gt;</th><th scope=col>&lt;fct&gt;</th><th scope=col>&lt;fct&gt;</th><th scope=col>&lt;fct&gt;</th><th scope=col>&lt;fct&gt;</th><th scope=col>&lt;fct&gt;</th><th scope=col>&lt;fct&gt;</th><th scope=col>&lt;fct&gt;</th><th scope=col>&lt;fct&gt;</th><th scope=col>&lt;fct&gt;</th></tr>\n",
       "</thead>\n",
       "<tbody>\n",
       "\t<tr><th scope=row>0</th><td>2.0-6.0</td><td>0-0.2</td><td>0-0.2  </td><td>0.2-0.8</td><td>0-0.2</td><td>0.2-0.8</td><td>0.2-0.8</td><td>0.2-0.8</td><td>0-0.2  </td><td>0-0.2</td><td>⋯</td><td>0-0.2</td><td>0-0.2  </td><td>0-0.2  </td><td>0-0.2</td><td>0-0.2</td><td>0.2-0.8</td><td>0.2-0.8</td><td>0.2-0.8</td><td>0-0.2</td><td>0-0.2</td></tr>\n",
       "\t<tr><th scope=row>1</th><td><span style=white-space:pre-wrap>&gt;=6.0  </span></td><td>0-0.2</td><td>0.2-0.8</td><td>0.2-0.8</td><td>0-0.2</td><td>0.2-0.8</td><td>0.2-0.8</td><td>0.2-0.8</td><td>0.2-0.8</td><td>0-0.2</td><td>⋯</td><td>0-0.2</td><td><span style=white-space:pre-wrap>0-0.2  </span></td><td>0.2-0.8</td><td>0-0.2</td><td>0-0.2</td><td><span style=white-space:pre-wrap>0-0.2  </span></td><td>0.2-0.8</td><td>0.2-0.8</td><td>0-0.2</td><td>0-0.2</td></tr>\n",
       "\t<tr><th scope=row>2</th><td>0-2.0  </td><td>0-0.2</td><td>0-0.2  </td><td>0.2-0.8</td><td>0-0.2</td><td>0.2-0.8</td><td>0.2-0.8</td><td>0.2-0.8</td><td>0-0.2  </td><td>0-0.2</td><td>⋯</td><td>0-0.2</td><td>0-0.2  </td><td>0-0.2  </td><td>0-0.2</td><td>0-0.2</td><td>0-0.2  </td><td>0-0.2  </td><td>0.2-0.8</td><td>0-0.2</td><td>0-0.2</td></tr>\n",
       "\t<tr><th scope=row>3</th><td><span style=white-space:pre-wrap>&gt;=6.0  </span></td><td>0-0.2</td><td><span style=white-space:pre-wrap>0-0.2  </span></td><td>0.2-0.8</td><td>0-0.2</td><td>0.2-0.8</td><td>0.2-0.8</td><td>0.2-0.8</td><td><span style=white-space:pre-wrap>0-0.2  </span></td><td>0-0.2</td><td>⋯</td><td>0-0.2</td><td><span style=white-space:pre-wrap>0-0.2  </span></td><td>0.2-0.8</td><td>0-0.2</td><td>0-0.2</td><td><span style=white-space:pre-wrap>0-0.2  </span></td><td><span style=white-space:pre-wrap>0-0.2  </span></td><td>0.2-0.8</td><td>0-0.2</td><td>0-0.2</td></tr>\n",
       "\t<tr><th scope=row>4</th><td><span style=white-space:pre-wrap>&gt;=6.0  </span></td><td>0-0.2</td><td><span style=white-space:pre-wrap>0-0.2  </span></td><td>0.2-0.8</td><td>0-0.2</td><td><span style=white-space:pre-wrap>0-0.2  </span></td><td><span style=white-space:pre-wrap>0-0.2  </span></td><td>0.2-0.8</td><td><span style=white-space:pre-wrap>0-0.2  </span></td><td>0-0.2</td><td>⋯</td><td>0-0.2</td><td><span style=white-space:pre-wrap>0-0.2  </span></td><td><span style=white-space:pre-wrap>0-0.2  </span></td><td>0-0.2</td><td>0-0.2</td><td><span style=white-space:pre-wrap>0-0.2  </span></td><td><span style=white-space:pre-wrap>0-0.2  </span></td><td>0.2-0.8</td><td>0-0.2</td><td>0-0.2</td></tr>\n",
       "\t<tr><th scope=row>5</th><td><span style=white-space:pre-wrap>&gt;=6.0  </span></td><td>0-0.2</td><td><span style=white-space:pre-wrap>0-0.2  </span></td><td>0.2-0.8</td><td>0-0.2</td><td>0.2-0.8</td><td>0.2-0.8</td><td>0.2-0.8</td><td><span style=white-space:pre-wrap>0-0.2  </span></td><td>0-0.2</td><td>⋯</td><td>0-0.2</td><td>0.2-0.8</td><td>0.2-0.8</td><td>0-0.2</td><td>0-0.2</td><td>0.2-0.8</td><td><span style=white-space:pre-wrap>0-0.2  </span></td><td>0.2-0.8</td><td>0-0.2</td><td>0-0.2</td></tr>\n",
       "</tbody>\n",
       "</table>\n"
      ],
      "text/latex": [
       "A data.frame: 6 × 32\n",
       "\\begin{tabular}{r|lllllllllllllllllllll}\n",
       "  & pseudocell.gene\\_exprvalue & ca.distal.chr9\\_56613589\\_56613966 & ca.distal.chr9\\_56620241\\_56621436 & ca.distal.chr9\\_56635300\\_56637926 & ca.distal.chr9\\_56638312\\_56639050 & ca.distal.chr9\\_56646129\\_56647795 & ca.distal.chr9\\_56656433\\_56657464 & ca.distal.chr9\\_56657543\\_56658673 & ca.distal.chr9\\_56662747\\_56663535 & ca.distal.chr9\\_56669169\\_56670489 & ⋯ & ca.distal.chr9\\_56753379\\_56754071 & ca.distal.chr9\\_56797596\\_56798262 & ca.distal.chr9\\_56869322\\_56870233 & ca.distal.chr9\\_56884030\\_56884881 & ca.distal.chr9\\_56895806\\_56896374 & ca.distal.chr9\\_56981022\\_56982706 & ca.distal.chr9\\_57031187\\_57032325 & ca.prom.chr9\\_56795124\\_56797278 & ctlCg.prom.chr9\\_56795364\\_56795527 & ctlCg.prom.chr9\\_56795610\\_56797132\\\\\n",
       "  & <fct> & <fct> & <fct> & <fct> & <fct> & <fct> & <fct> & <fct> & <fct> & <fct> & ⋯ & <fct> & <fct> & <fct> & <fct> & <fct> & <fct> & <fct> & <fct> & <fct> & <fct>\\\\\n",
       "\\hline\n",
       "\t0 & 2.0-6.0 & 0-0.2 & 0-0.2   & 0.2-0.8 & 0-0.2 & 0.2-0.8 & 0.2-0.8 & 0.2-0.8 & 0-0.2   & 0-0.2 & ⋯ & 0-0.2 & 0-0.2   & 0-0.2   & 0-0.2 & 0-0.2 & 0.2-0.8 & 0.2-0.8 & 0.2-0.8 & 0-0.2 & 0-0.2\\\\\n",
       "\t1 & >=6.0   & 0-0.2 & 0.2-0.8 & 0.2-0.8 & 0-0.2 & 0.2-0.8 & 0.2-0.8 & 0.2-0.8 & 0.2-0.8 & 0-0.2 & ⋯ & 0-0.2 & 0-0.2   & 0.2-0.8 & 0-0.2 & 0-0.2 & 0-0.2   & 0.2-0.8 & 0.2-0.8 & 0-0.2 & 0-0.2\\\\\n",
       "\t2 & 0-2.0   & 0-0.2 & 0-0.2   & 0.2-0.8 & 0-0.2 & 0.2-0.8 & 0.2-0.8 & 0.2-0.8 & 0-0.2   & 0-0.2 & ⋯ & 0-0.2 & 0-0.2   & 0-0.2   & 0-0.2 & 0-0.2 & 0-0.2   & 0-0.2   & 0.2-0.8 & 0-0.2 & 0-0.2\\\\\n",
       "\t3 & >=6.0   & 0-0.2 & 0-0.2   & 0.2-0.8 & 0-0.2 & 0.2-0.8 & 0.2-0.8 & 0.2-0.8 & 0-0.2   & 0-0.2 & ⋯ & 0-0.2 & 0-0.2   & 0.2-0.8 & 0-0.2 & 0-0.2 & 0-0.2   & 0-0.2   & 0.2-0.8 & 0-0.2 & 0-0.2\\\\\n",
       "\t4 & >=6.0   & 0-0.2 & 0-0.2   & 0.2-0.8 & 0-0.2 & 0-0.2   & 0-0.2   & 0.2-0.8 & 0-0.2   & 0-0.2 & ⋯ & 0-0.2 & 0-0.2   & 0-0.2   & 0-0.2 & 0-0.2 & 0-0.2   & 0-0.2   & 0.2-0.8 & 0-0.2 & 0-0.2\\\\\n",
       "\t5 & >=6.0   & 0-0.2 & 0-0.2   & 0.2-0.8 & 0-0.2 & 0.2-0.8 & 0.2-0.8 & 0.2-0.8 & 0-0.2   & 0-0.2 & ⋯ & 0-0.2 & 0.2-0.8 & 0.2-0.8 & 0-0.2 & 0-0.2 & 0.2-0.8 & 0-0.2   & 0.2-0.8 & 0-0.2 & 0-0.2\\\\\n",
       "\\end{tabular}\n"
      ],
      "text/markdown": [
       "\n",
       "A data.frame: 6 × 32\n",
       "\n",
       "| <!--/--> | pseudocell.gene_exprvalue &lt;fct&gt; | ca.distal.chr9_56613589_56613966 &lt;fct&gt; | ca.distal.chr9_56620241_56621436 &lt;fct&gt; | ca.distal.chr9_56635300_56637926 &lt;fct&gt; | ca.distal.chr9_56638312_56639050 &lt;fct&gt; | ca.distal.chr9_56646129_56647795 &lt;fct&gt; | ca.distal.chr9_56656433_56657464 &lt;fct&gt; | ca.distal.chr9_56657543_56658673 &lt;fct&gt; | ca.distal.chr9_56662747_56663535 &lt;fct&gt; | ca.distal.chr9_56669169_56670489 &lt;fct&gt; | ⋯ ⋯ | ca.distal.chr9_56753379_56754071 &lt;fct&gt; | ca.distal.chr9_56797596_56798262 &lt;fct&gt; | ca.distal.chr9_56869322_56870233 &lt;fct&gt; | ca.distal.chr9_56884030_56884881 &lt;fct&gt; | ca.distal.chr9_56895806_56896374 &lt;fct&gt; | ca.distal.chr9_56981022_56982706 &lt;fct&gt; | ca.distal.chr9_57031187_57032325 &lt;fct&gt; | ca.prom.chr9_56795124_56797278 &lt;fct&gt; | ctlCg.prom.chr9_56795364_56795527 &lt;fct&gt; | ctlCg.prom.chr9_56795610_56797132 &lt;fct&gt; |\n",
       "|---|---|---|---|---|---|---|---|---|---|---|---|---|---|---|---|---|---|---|---|---|---|\n",
       "| 0 | 2.0-6.0 | 0-0.2 | 0-0.2   | 0.2-0.8 | 0-0.2 | 0.2-0.8 | 0.2-0.8 | 0.2-0.8 | 0-0.2   | 0-0.2 | ⋯ | 0-0.2 | 0-0.2   | 0-0.2   | 0-0.2 | 0-0.2 | 0.2-0.8 | 0.2-0.8 | 0.2-0.8 | 0-0.2 | 0-0.2 |\n",
       "| 1 | &gt;=6.0   | 0-0.2 | 0.2-0.8 | 0.2-0.8 | 0-0.2 | 0.2-0.8 | 0.2-0.8 | 0.2-0.8 | 0.2-0.8 | 0-0.2 | ⋯ | 0-0.2 | 0-0.2   | 0.2-0.8 | 0-0.2 | 0-0.2 | 0-0.2   | 0.2-0.8 | 0.2-0.8 | 0-0.2 | 0-0.2 |\n",
       "| 2 | 0-2.0   | 0-0.2 | 0-0.2   | 0.2-0.8 | 0-0.2 | 0.2-0.8 | 0.2-0.8 | 0.2-0.8 | 0-0.2   | 0-0.2 | ⋯ | 0-0.2 | 0-0.2   | 0-0.2   | 0-0.2 | 0-0.2 | 0-0.2   | 0-0.2   | 0.2-0.8 | 0-0.2 | 0-0.2 |\n",
       "| 3 | &gt;=6.0   | 0-0.2 | 0-0.2   | 0.2-0.8 | 0-0.2 | 0.2-0.8 | 0.2-0.8 | 0.2-0.8 | 0-0.2   | 0-0.2 | ⋯ | 0-0.2 | 0-0.2   | 0.2-0.8 | 0-0.2 | 0-0.2 | 0-0.2   | 0-0.2   | 0.2-0.8 | 0-0.2 | 0-0.2 |\n",
       "| 4 | &gt;=6.0   | 0-0.2 | 0-0.2   | 0.2-0.8 | 0-0.2 | 0-0.2   | 0-0.2   | 0.2-0.8 | 0-0.2   | 0-0.2 | ⋯ | 0-0.2 | 0-0.2   | 0-0.2   | 0-0.2 | 0-0.2 | 0-0.2   | 0-0.2   | 0.2-0.8 | 0-0.2 | 0-0.2 |\n",
       "| 5 | &gt;=6.0   | 0-0.2 | 0-0.2   | 0.2-0.8 | 0-0.2 | 0.2-0.8 | 0.2-0.8 | 0.2-0.8 | 0-0.2   | 0-0.2 | ⋯ | 0-0.2 | 0.2-0.8 | 0.2-0.8 | 0-0.2 | 0-0.2 | 0.2-0.8 | 0-0.2   | 0.2-0.8 | 0-0.2 | 0-0.2 |\n",
       "\n"
      ],
      "text/plain": [
       "  pseudocell.gene_exprvalue ca.distal.chr9_56613589_56613966\n",
       "0 2.0-6.0                   0-0.2                           \n",
       "1 >=6.0                     0-0.2                           \n",
       "2 0-2.0                     0-0.2                           \n",
       "3 >=6.0                     0-0.2                           \n",
       "4 >=6.0                     0-0.2                           \n",
       "5 >=6.0                     0-0.2                           \n",
       "  ca.distal.chr9_56620241_56621436 ca.distal.chr9_56635300_56637926\n",
       "0 0-0.2                            0.2-0.8                         \n",
       "1 0.2-0.8                          0.2-0.8                         \n",
       "2 0-0.2                            0.2-0.8                         \n",
       "3 0-0.2                            0.2-0.8                         \n",
       "4 0-0.2                            0.2-0.8                         \n",
       "5 0-0.2                            0.2-0.8                         \n",
       "  ca.distal.chr9_56638312_56639050 ca.distal.chr9_56646129_56647795\n",
       "0 0-0.2                            0.2-0.8                         \n",
       "1 0-0.2                            0.2-0.8                         \n",
       "2 0-0.2                            0.2-0.8                         \n",
       "3 0-0.2                            0.2-0.8                         \n",
       "4 0-0.2                            0-0.2                           \n",
       "5 0-0.2                            0.2-0.8                         \n",
       "  ca.distal.chr9_56656433_56657464 ca.distal.chr9_56657543_56658673\n",
       "0 0.2-0.8                          0.2-0.8                         \n",
       "1 0.2-0.8                          0.2-0.8                         \n",
       "2 0.2-0.8                          0.2-0.8                         \n",
       "3 0.2-0.8                          0.2-0.8                         \n",
       "4 0-0.2                            0.2-0.8                         \n",
       "5 0.2-0.8                          0.2-0.8                         \n",
       "  ca.distal.chr9_56662747_56663535 ca.distal.chr9_56669169_56670489 ⋯\n",
       "0 0-0.2                            0-0.2                            ⋯\n",
       "1 0.2-0.8                          0-0.2                            ⋯\n",
       "2 0-0.2                            0-0.2                            ⋯\n",
       "3 0-0.2                            0-0.2                            ⋯\n",
       "4 0-0.2                            0-0.2                            ⋯\n",
       "5 0-0.2                            0-0.2                            ⋯\n",
       "  ca.distal.chr9_56753379_56754071 ca.distal.chr9_56797596_56798262\n",
       "0 0-0.2                            0-0.2                           \n",
       "1 0-0.2                            0-0.2                           \n",
       "2 0-0.2                            0-0.2                           \n",
       "3 0-0.2                            0-0.2                           \n",
       "4 0-0.2                            0-0.2                           \n",
       "5 0-0.2                            0.2-0.8                         \n",
       "  ca.distal.chr9_56869322_56870233 ca.distal.chr9_56884030_56884881\n",
       "0 0-0.2                            0-0.2                           \n",
       "1 0.2-0.8                          0-0.2                           \n",
       "2 0-0.2                            0-0.2                           \n",
       "3 0.2-0.8                          0-0.2                           \n",
       "4 0-0.2                            0-0.2                           \n",
       "5 0.2-0.8                          0-0.2                           \n",
       "  ca.distal.chr9_56895806_56896374 ca.distal.chr9_56981022_56982706\n",
       "0 0-0.2                            0.2-0.8                         \n",
       "1 0-0.2                            0-0.2                           \n",
       "2 0-0.2                            0-0.2                           \n",
       "3 0-0.2                            0-0.2                           \n",
       "4 0-0.2                            0-0.2                           \n",
       "5 0-0.2                            0.2-0.8                         \n",
       "  ca.distal.chr9_57031187_57032325 ca.prom.chr9_56795124_56797278\n",
       "0 0.2-0.8                          0.2-0.8                       \n",
       "1 0.2-0.8                          0.2-0.8                       \n",
       "2 0-0.2                            0.2-0.8                       \n",
       "3 0-0.2                            0.2-0.8                       \n",
       "4 0-0.2                            0.2-0.8                       \n",
       "5 0-0.2                            0.2-0.8                       \n",
       "  ctlCg.prom.chr9_56795364_56795527 ctlCg.prom.chr9_56795610_56797132\n",
       "0 0-0.2                             0-0.2                            \n",
       "1 0-0.2                             0-0.2                            \n",
       "2 0-0.2                             0-0.2                            \n",
       "3 0-0.2                             0-0.2                            \n",
       "4 0-0.2                             0-0.2                            \n",
       "5 0-0.2                             0-0.2                            "
      ]
     },
     "metadata": {},
     "output_type": "display_data"
    }
   ],
   "source": [
    "options(warn = -1)\n",
    "library(EGRNR)\n",
    "data <- read.csv(\"./inst/test.csv\", header = TRUE, row.names = 1, sep= \" \", stringsAsFactor=TRUE)\n",
    "head(data)"
   ]
  },
  {
   "cell_type": "code",
   "execution_count": 2,
   "metadata": {
    "vscode": {
     "languageId": "r"
    }
   },
   "outputs": [
    {
     "name": "stdout",
     "output_type": "stream",
     "text": [
      "[1] 32\n"
     ]
    },
    {
     "data": {
      "text/plain": [
       "$graph\n",
       "\n",
       "  Random/Generated Bayesian network\n",
       "\n",
       "  model:\n",
       "   [ca3][ca10|ca3][ca18|ca10:ca3][ca28|ca10:ca18][ca11|ca10:ca3:ca18:ca28]\n",
       "   [ca22|ca11:ca3:ca18:ca28][ca25|ca11:ca3:ca28:ca22][ca26|ca3:ca18:ca25]\n",
       "   [ca9|ca3:ca25:ca26][ca13|ca11:ca18:ca25:ca22:ca9]\n",
       "   [ca24|ca13:ca10:ca18:ca28:ca25:ca22][ca7|ca11:ca25:ca22:ca24]\n",
       "   [ca6|ca11:ca3:ca7][ca12|ca11:ca25:ca6][gene1|ca12:ca13:ca22]\n",
       "  nodes:                                 15 \n",
       "  arcs:                                  47 \n",
       "    undirected arcs:                     0 \n",
       "    directed arcs:                       47 \n",
       "  average markov blanket size:           8.13 \n",
       "  average neighbourhood size:            6.27 \n",
       "  average branching factor:              3.13 \n",
       "\n",
       "  generation algorithm:                  Empty \n",
       "\n",
       "\n",
       "$strength\n",
       "   from    to     strength\n",
       "1  ca12 gene1     3.372725\n",
       "2  ca13 gene1   -11.545512\n",
       "3  ca11  ca13 -1047.483790\n",
       "4  ca10  ca28  -564.876197\n",
       "5  ca10  ca18  -669.656844\n",
       "6   ca3  ca10 -1643.691712\n",
       "7  ca18  ca24   -59.265874\n",
       "8  ca28  ca22  -852.681357\n",
       "9  ca18  ca11  -503.614148\n",
       "10 ca11  ca25  -336.401552\n",
       "11 ca25   ca9  -452.777758\n",
       "12 ca11   ca6  -147.709310\n",
       "13  ca6  ca12  -328.455678\n",
       "14 ca25  ca24  -339.257524\n",
       "15 ca18  ca22  -425.265508\n",
       "16 ca11  ca22  -435.113235\n",
       "17  ca3   ca6  -152.600868\n",
       "18  ca3  ca11  -389.988613\n",
       "19 ca10  ca24  -312.167258\n",
       "20  ca3   ca9  -263.341825\n",
       "21 ca28  ca24  -207.748028\n",
       "22 ca28  ca11  -121.911436\n",
       "23 ca18  ca28  -196.965324\n",
       "24 ca25   ca7   -83.398924\n",
       "25  ca3  ca22  -155.469887\n",
       "26 ca25  ca26   -74.846454\n",
       "27 ca13  ca24  -154.696403\n",
       "28 ca22  ca24  -139.688280\n",
       "29 ca11  ca12   -42.664652\n",
       "30 ca28  ca25  -159.661197\n",
       "31  ca3  ca25  -114.083863\n",
       "32  ca3  ca18   -77.452881\n",
       "33  ca9  ca13   -14.879516\n",
       "34 ca18  ca26   -88.309632\n",
       "35 ca11   ca7  -193.748626\n",
       "36  ca7   ca6  -189.209454\n",
       "37 ca22   ca7  -362.204969\n",
       "38 ca18  ca13   -95.417752\n",
       "39 ca25  ca13   -56.386457\n",
       "40 ca22  ca25   -43.665801\n",
       "41 ca26   ca9   -40.704370\n",
       "42 ca10  ca11   -32.650375\n",
       "43 ca22 gene1   -26.773311\n",
       "44  ca3  ca26   -22.647866\n",
       "45 ca25  ca12   -20.449806\n",
       "46 ca24   ca7    -5.242362\n",
       "47 ca22  ca13    -1.906387\n"
      ]
     },
     "metadata": {},
     "output_type": "display_data"
    }
   ],
   "source": [
    "e <- inference(data = data)\n",
    "e"
   ]
  },
  {
   "cell_type": "markdown",
   "metadata": {},
   "source": [
    "### Visualization"
   ]
  },
  {
   "cell_type": "code",
   "execution_count": 3,
   "metadata": {
    "vscode": {
     "languageId": "r"
    }
   },
   "outputs": [
    {
     "data": {
      "image/png": "[encoded data removed]",
      "text/plain": [
       "plot without title"
      ]
     },
     "metadata": {
      "image/png": {
       "height": 420,
       "width": 420
      }
     },
     "output_type": "display_data"
    }
   ],
   "source": [
    "networkPlot(e$strength, title = \"Sample Network\")"
   ]
  },
  {
   "cell_type": "markdown",
   "metadata": {},
   "source": [
    "### Path Identification in a Network"
   ]
  },
  {
   "cell_type": "code",
   "execution_count": 4,
   "metadata": {
    "vscode": {
     "languageId": "r"
    }
   },
   "outputs": [
    {
     "data": {
      "text/html": [
       "<ol>\n",
       "\t<li><style>\n",
       ".list-inline {list-style: none; margin:0; padding: 0}\n",
       ".list-inline>li {display: inline-block}\n",
       ".list-inline>li:not(:last-child)::after {content: \"\\00b7\"; padding: 0 .5ex}\n",
       "</style>\n",
       "<ol class=list-inline><li>'ca6'</li><li>'ca12'</li></ol>\n",
       "</li>\n",
       "\t<li><style>\n",
       ".list-inline {list-style: none; margin:0; padding: 0}\n",
       ".list-inline>li {display: inline-block}\n",
       ".list-inline>li:not(:last-child)::after {content: \"\\00b7\"; padding: 0 .5ex}\n",
       "</style>\n",
       "<ol class=list-inline><li>'ca11'</li><li>'ca12'</li></ol>\n",
       "</li>\n",
       "\t<li><style>\n",
       ".list-inline {list-style: none; margin:0; padding: 0}\n",
       ".list-inline>li {display: inline-block}\n",
       ".list-inline>li:not(:last-child)::after {content: \"\\00b7\"; padding: 0 .5ex}\n",
       "</style>\n",
       "<ol class=list-inline><li>'ca25'</li><li>'ca12'</li></ol>\n",
       "</li>\n",
       "\t<li><style>\n",
       ".list-inline {list-style: none; margin:0; padding: 0}\n",
       ".list-inline>li {display: inline-block}\n",
       ".list-inline>li:not(:last-child)::after {content: \"\\00b7\"; padding: 0 .5ex}\n",
       "</style>\n",
       "<ol class=list-inline><li>'ca11'</li><li>'ca13'</li></ol>\n",
       "</li>\n",
       "\t<li><style>\n",
       ".list-inline {list-style: none; margin:0; padding: 0}\n",
       ".list-inline>li {display: inline-block}\n",
       ".list-inline>li:not(:last-child)::after {content: \"\\00b7\"; padding: 0 .5ex}\n",
       "</style>\n",
       "<ol class=list-inline><li>'ca9'</li><li>'ca13'</li></ol>\n",
       "</li>\n",
       "\t<li><style>\n",
       ".list-inline {list-style: none; margin:0; padding: 0}\n",
       ".list-inline>li {display: inline-block}\n",
       ".list-inline>li:not(:last-child)::after {content: \"\\00b7\"; padding: 0 .5ex}\n",
       "</style>\n",
       "<ol class=list-inline><li>'ca18'</li><li>'ca13'</li></ol>\n",
       "</li>\n",
       "\t<li><style>\n",
       ".list-inline {list-style: none; margin:0; padding: 0}\n",
       ".list-inline>li {display: inline-block}\n",
       ".list-inline>li:not(:last-child)::after {content: \"\\00b7\"; padding: 0 .5ex}\n",
       "</style>\n",
       "<ol class=list-inline><li>'ca25'</li><li>'ca13'</li></ol>\n",
       "</li>\n",
       "\t<li><style>\n",
       ".list-inline {list-style: none; margin:0; padding: 0}\n",
       ".list-inline>li {display: inline-block}\n",
       ".list-inline>li:not(:last-child)::after {content: \"\\00b7\"; padding: 0 .5ex}\n",
       "</style>\n",
       "<ol class=list-inline><li>'ca22'</li><li>'ca13'</li></ol>\n",
       "</li>\n",
       "</ol>\n"
      ],
      "text/latex": [
       "\\begin{enumerate}\n",
       "\\item \\begin{enumerate*}\n",
       "\\item 'ca6'\n",
       "\\item 'ca12'\n",
       "\\end{enumerate*}\n",
       "\n",
       "\\item \\begin{enumerate*}\n",
       "\\item 'ca11'\n",
       "\\item 'ca12'\n",
       "\\end{enumerate*}\n",
       "\n",
       "\\item \\begin{enumerate*}\n",
       "\\item 'ca25'\n",
       "\\item 'ca12'\n",
       "\\end{enumerate*}\n",
       "\n",
       "\\item \\begin{enumerate*}\n",
       "\\item 'ca11'\n",
       "\\item 'ca13'\n",
       "\\end{enumerate*}\n",
       "\n",
       "\\item \\begin{enumerate*}\n",
       "\\item 'ca9'\n",
       "\\item 'ca13'\n",
       "\\end{enumerate*}\n",
       "\n",
       "\\item \\begin{enumerate*}\n",
       "\\item 'ca18'\n",
       "\\item 'ca13'\n",
       "\\end{enumerate*}\n",
       "\n",
       "\\item \\begin{enumerate*}\n",
       "\\item 'ca25'\n",
       "\\item 'ca13'\n",
       "\\end{enumerate*}\n",
       "\n",
       "\\item \\begin{enumerate*}\n",
       "\\item 'ca22'\n",
       "\\item 'ca13'\n",
       "\\end{enumerate*}\n",
       "\n",
       "\\end{enumerate}\n"
      ],
      "text/markdown": [
       "1. 1. 'ca6'\n",
       "2. 'ca12'\n",
       "\n",
       "\n",
       "\n",
       "2. 1. 'ca11'\n",
       "2. 'ca12'\n",
       "\n",
       "\n",
       "\n",
       "3. 1. 'ca25'\n",
       "2. 'ca12'\n",
       "\n",
       "\n",
       "\n",
       "4. 1. 'ca11'\n",
       "2. 'ca13'\n",
       "\n",
       "\n",
       "\n",
       "5. 1. 'ca9'\n",
       "2. 'ca13'\n",
       "\n",
       "\n",
       "\n",
       "6. 1. 'ca18'\n",
       "2. 'ca13'\n",
       "\n",
       "\n",
       "\n",
       "7. 1. 'ca25'\n",
       "2. 'ca13'\n",
       "\n",
       "\n",
       "\n",
       "8. 1. 'ca22'\n",
       "2. 'ca13'\n",
       "\n",
       "\n",
       "\n",
       "\n",
       "\n"
      ],
      "text/plain": [
       "[[1]]\n",
       "[1] \"ca6\"  \"ca12\"\n",
       "\n",
       "[[2]]\n",
       "[1] \"ca11\" \"ca12\"\n",
       "\n",
       "[[3]]\n",
       "[1] \"ca25\" \"ca12\"\n",
       "\n",
       "[[4]]\n",
       "[1] \"ca11\" \"ca13\"\n",
       "\n",
       "[[5]]\n",
       "[1] \"ca9\"  \"ca13\"\n",
       "\n",
       "[[6]]\n",
       "[1] \"ca18\" \"ca13\"\n",
       "\n",
       "[[7]]\n",
       "[1] \"ca25\" \"ca13\"\n",
       "\n",
       "[[8]]\n",
       "[1] \"ca22\" \"ca13\"\n"
      ]
     },
     "metadata": {},
     "output_type": "display_data"
    }
   ],
   "source": [
    "pathIdentification(e$strength)"
   ]
  },
  {
   "cell_type": "markdown",
   "metadata": {},
   "source": [
    "### Count Network Motifs"
   ]
  },
  {
   "cell_type": "code",
   "execution_count": 5,
   "metadata": {
    "vscode": {
     "languageId": "r"
    }
   },
   "outputs": [
    {
     "data": {
      "text/html": [
       "<style>\n",
       ".list-inline {list-style: none; margin:0; padding: 0}\n",
       ".list-inline>li {display: inline-block}\n",
       ".list-inline>li:not(:last-child)::after {content: \"\\00b7\"; padding: 0 .5ex}\n",
       "</style>\n",
       "<ol class=list-inline><li>192</li><li>132</li><li>124</li><li>48</li></ol>\n"
      ],
      "text/latex": [
       "\\begin{enumerate*}\n",
       "\\item 192\n",
       "\\item 132\n",
       "\\item 124\n",
       "\\item 48\n",
       "\\end{enumerate*}\n"
      ],
      "text/markdown": [
       "1. 192\n",
       "2. 132\n",
       "3. 124\n",
       "4. 48\n",
       "\n",
       "\n"
      ],
      "text/plain": [
       "[1] 192 132 124  48"
      ]
     },
     "metadata": {},
     "output_type": "display_data"
    }
   ],
   "source": [
    "countMotifs(e$strength)"
   ]
  },
  {
   "cell_type": "markdown",
   "metadata": {},
   "source": [
    "### Network Comparison"
   ]
  },
  {
   "cell_type": "code",
   "execution_count": 6,
   "metadata": {
    "vscode": {
     "languageId": "r"
    }
   },
   "outputs": [
    {
     "data": {
      "text/html": [
       "<table class=\"dataframe\">\n",
       "<caption>A data.frame: 7 × 7</caption>\n",
       "<thead>\n",
       "\t<tr><th scope=col>Cluster0</th><th scope=col>Cluster1</th><th scope=col>Cluster2</th><th scope=col>Cluster3</th><th scope=col>Cluster4</th><th scope=col>Cluster5</th><th scope=col>Cluster7</th></tr>\n",
       "\t<tr><th scope=col>&lt;dbl&gt;</th><th scope=col>&lt;dbl&gt;</th><th scope=col>&lt;dbl&gt;</th><th scope=col>&lt;dbl&gt;</th><th scope=col>&lt;dbl&gt;</th><th scope=col>&lt;dbl&gt;</th><th scope=col>&lt;dbl&gt;</th></tr>\n",
       "</thead>\n",
       "<tbody>\n",
       "\t<tr><td>0.16666667</td><td>0.0000000</td><td>0.04166667</td><td>0.0000000</td><td>0.00000000</td><td>0.00000000</td><td>0.04166667</td></tr>\n",
       "\t<tr><td>0.00000000</td><td>0.2083333</td><td>0.00000000</td><td>0.0000000</td><td>0.00000000</td><td>0.00000000</td><td>0.00000000</td></tr>\n",
       "\t<tr><td>0.04166667</td><td>0.0000000</td><td>0.20833333</td><td>0.0000000</td><td>0.00000000</td><td>0.00000000</td><td>0.08333333</td></tr>\n",
       "\t<tr><td>0.00000000</td><td>0.0000000</td><td>0.00000000</td><td>0.1666667</td><td>0.00000000</td><td>0.00000000</td><td>0.00000000</td></tr>\n",
       "\t<tr><td>0.00000000</td><td>0.0000000</td><td>0.00000000</td><td>0.0000000</td><td>0.04166667</td><td>0.00000000</td><td>0.00000000</td></tr>\n",
       "\t<tr><td>0.00000000</td><td>0.0000000</td><td>0.00000000</td><td>0.0000000</td><td>0.00000000</td><td>0.20833333</td><td>0.04166667</td></tr>\n",
       "\t<tr><td>0.04166667</td><td>0.0000000</td><td>0.08333333</td><td>0.0000000</td><td>0.00000000</td><td>0.04166667</td><td>0.16666667</td></tr>\n",
       "</tbody>\n",
       "</table>\n"
      ],
      "text/latex": [
       "A data.frame: 7 × 7\n",
       "\\begin{tabular}{lllllll}\n",
       " Cluster0 & Cluster1 & Cluster2 & Cluster3 & Cluster4 & Cluster5 & Cluster7\\\\\n",
       " <dbl> & <dbl> & <dbl> & <dbl> & <dbl> & <dbl> & <dbl>\\\\\n",
       "\\hline\n",
       "\t 0.16666667 & 0.0000000 & 0.04166667 & 0.0000000 & 0.00000000 & 0.00000000 & 0.04166667\\\\\n",
       "\t 0.00000000 & 0.2083333 & 0.00000000 & 0.0000000 & 0.00000000 & 0.00000000 & 0.00000000\\\\\n",
       "\t 0.04166667 & 0.0000000 & 0.20833333 & 0.0000000 & 0.00000000 & 0.00000000 & 0.08333333\\\\\n",
       "\t 0.00000000 & 0.0000000 & 0.00000000 & 0.1666667 & 0.00000000 & 0.00000000 & 0.00000000\\\\\n",
       "\t 0.00000000 & 0.0000000 & 0.00000000 & 0.0000000 & 0.04166667 & 0.00000000 & 0.00000000\\\\\n",
       "\t 0.00000000 & 0.0000000 & 0.00000000 & 0.0000000 & 0.00000000 & 0.20833333 & 0.04166667\\\\\n",
       "\t 0.04166667 & 0.0000000 & 0.08333333 & 0.0000000 & 0.00000000 & 0.04166667 & 0.16666667\\\\\n",
       "\\end{tabular}\n"
      ],
      "text/markdown": [
       "\n",
       "A data.frame: 7 × 7\n",
       "\n",
       "| Cluster0 &lt;dbl&gt; | Cluster1 &lt;dbl&gt; | Cluster2 &lt;dbl&gt; | Cluster3 &lt;dbl&gt; | Cluster4 &lt;dbl&gt; | Cluster5 &lt;dbl&gt; | Cluster7 &lt;dbl&gt; |\n",
       "|---|---|---|---|---|---|---|\n",
       "| 0.16666667 | 0.0000000 | 0.04166667 | 0.0000000 | 0.00000000 | 0.00000000 | 0.04166667 |\n",
       "| 0.00000000 | 0.2083333 | 0.00000000 | 0.0000000 | 0.00000000 | 0.00000000 | 0.00000000 |\n",
       "| 0.04166667 | 0.0000000 | 0.20833333 | 0.0000000 | 0.00000000 | 0.00000000 | 0.08333333 |\n",
       "| 0.00000000 | 0.0000000 | 0.00000000 | 0.1666667 | 0.00000000 | 0.00000000 | 0.00000000 |\n",
       "| 0.00000000 | 0.0000000 | 0.00000000 | 0.0000000 | 0.04166667 | 0.00000000 | 0.00000000 |\n",
       "| 0.00000000 | 0.0000000 | 0.00000000 | 0.0000000 | 0.00000000 | 0.20833333 | 0.04166667 |\n",
       "| 0.04166667 | 0.0000000 | 0.08333333 | 0.0000000 | 0.00000000 | 0.04166667 | 0.16666667 |\n",
       "\n"
      ],
      "text/plain": [
       "  Cluster0   Cluster1  Cluster2   Cluster3  Cluster4   Cluster5   Cluster7  \n",
       "1 0.16666667 0.0000000 0.04166667 0.0000000 0.00000000 0.00000000 0.04166667\n",
       "2 0.00000000 0.2083333 0.00000000 0.0000000 0.00000000 0.00000000 0.00000000\n",
       "3 0.04166667 0.0000000 0.20833333 0.0000000 0.00000000 0.00000000 0.08333333\n",
       "4 0.00000000 0.0000000 0.00000000 0.1666667 0.00000000 0.00000000 0.00000000\n",
       "5 0.00000000 0.0000000 0.00000000 0.0000000 0.04166667 0.00000000 0.00000000\n",
       "6 0.00000000 0.0000000 0.00000000 0.0000000 0.00000000 0.20833333 0.04166667\n",
       "7 0.04166667 0.0000000 0.08333333 0.0000000 0.00000000 0.04166667 0.16666667"
      ]
     },
     "metadata": {},
     "output_type": "display_data"
    }
   ],
   "source": [
    "# load graphs\n",
    "network_0 <- read.csv(\"./inst/clust_0_strength.csv\", header = TRUE, sep = \" \")\n",
    "network_1 <- read.csv(\"./inst/clust_1_strength.csv\", header = TRUE, sep = \" \")\n",
    "network_2 <- read.csv(\"./inst/clust_2_strength.csv\", header = TRUE, sep = \" \")\n",
    "network_3 <- read.csv(\"./inst/clust_3_strength.csv\", header = TRUE, sep = \" \")\n",
    "network_4 <- read.csv(\"./inst/clust_4_strength.csv\", header = TRUE, sep = \" \")\n",
    "network_5 <- read.csv(\"./inst/clust_5_strength.csv\", header = TRUE, sep = \" \")\n",
    "network_6 <- read.csv(\"./inst/clust_7_strength.csv\", header = TRUE, sep = \" \")\n",
    "\n",
    "sample_list <- list(\"Cluster0\" = pathIdentification(network_0),\n",
    "                    \"Cluster1\" = pathIdentification(network_1),\n",
    "                    \"Cluster2\" = pathIdentification(network_2),\n",
    "                    \"Cluster3\" = pathIdentification(network_3),\n",
    "                    \"Cluster4\" = pathIdentification(network_4),\n",
    "                    \"Cluster5\" = pathIdentification(network_5),\n",
    "                    \"Cluster7\" = pathIdentification(network_6)\n",
    "                   )\n",
    "mat <- pathConsistency(sample_list)\n",
    "mat"
   ]
  },
  {
   "cell_type": "code",
   "execution_count": 7,
   "metadata": {
    "vscode": {
     "languageId": "r"
    }
   },
   "outputs": [
    {
     "data": {
      "text/html": [
       "<table class=\"dataframe\">\n",
       "<caption>A data.frame: 6 × 3</caption>\n",
       "<thead>\n",
       "\t<tr><th></th><th scope=col>X1</th><th scope=col>X2</th><th scope=col>value</th></tr>\n",
       "\t<tr><th></th><th scope=col>&lt;fct&gt;</th><th scope=col>&lt;fct&gt;</th><th scope=col>&lt;dbl&gt;</th></tr>\n",
       "</thead>\n",
       "<tbody>\n",
       "\t<tr><th scope=row>1</th><td>Cluster0</td><td>Cluster0</td><td>0.16666667</td></tr>\n",
       "\t<tr><th scope=row>2</th><td>Cluster1</td><td>Cluster0</td><td>0.00000000</td></tr>\n",
       "\t<tr><th scope=row>3</th><td>Cluster2</td><td>Cluster0</td><td>0.04166667</td></tr>\n",
       "\t<tr><th scope=row>4</th><td>Cluster3</td><td>Cluster0</td><td>0.00000000</td></tr>\n",
       "\t<tr><th scope=row>5</th><td>Cluster4</td><td>Cluster0</td><td>0.00000000</td></tr>\n",
       "\t<tr><th scope=row>6</th><td>Cluster5</td><td>Cluster0</td><td>0.00000000</td></tr>\n",
       "</tbody>\n",
       "</table>\n"
      ],
      "text/latex": [
       "A data.frame: 6 × 3\n",
       "\\begin{tabular}{r|lll}\n",
       "  & X1 & X2 & value\\\\\n",
       "  & <fct> & <fct> & <dbl>\\\\\n",
       "\\hline\n",
       "\t1 & Cluster0 & Cluster0 & 0.16666667\\\\\n",
       "\t2 & Cluster1 & Cluster0 & 0.00000000\\\\\n",
       "\t3 & Cluster2 & Cluster0 & 0.04166667\\\\\n",
       "\t4 & Cluster3 & Cluster0 & 0.00000000\\\\\n",
       "\t5 & Cluster4 & Cluster0 & 0.00000000\\\\\n",
       "\t6 & Cluster5 & Cluster0 & 0.00000000\\\\\n",
       "\\end{tabular}\n"
      ],
      "text/markdown": [
       "\n",
       "A data.frame: 6 × 3\n",
       "\n",
       "| <!--/--> | X1 &lt;fct&gt; | X2 &lt;fct&gt; | value &lt;dbl&gt; |\n",
       "|---|---|---|---|\n",
       "| 1 | Cluster0 | Cluster0 | 0.16666667 |\n",
       "| 2 | Cluster1 | Cluster0 | 0.00000000 |\n",
       "| 3 | Cluster2 | Cluster0 | 0.04166667 |\n",
       "| 4 | Cluster3 | Cluster0 | 0.00000000 |\n",
       "| 5 | Cluster4 | Cluster0 | 0.00000000 |\n",
       "| 6 | Cluster5 | Cluster0 | 0.00000000 |\n",
       "\n"
      ],
      "text/plain": [
       "  X1       X2       value     \n",
       "1 Cluster0 Cluster0 0.16666667\n",
       "2 Cluster1 Cluster0 0.00000000\n",
       "3 Cluster2 Cluster0 0.04166667\n",
       "4 Cluster3 Cluster0 0.00000000\n",
       "5 Cluster4 Cluster0 0.00000000\n",
       "6 Cluster5 Cluster0 0.00000000"
      ]
     },
     "metadata": {},
     "output_type": "display_data"
    }
   ],
   "source": [
    "library(reshape)\n",
    "rownames(mat) <- colnames(mat)\n",
    "df <- melt(as.matrix(mat))\n",
    "head(df)"
   ]
  },
  {
   "cell_type": "code",
   "execution_count": 8,
   "metadata": {
    "vscode": {
     "languageId": "r"
    }
   },
   "outputs": [
    {
     "data": {
      "image/png": "[encoded data removed]",
      "text/plain": [
       "plot without title"
      ]
     },
     "metadata": {
      "image/png": {
       "height": 420,
       "width": 420
      }
     },
     "output_type": "display_data"
    }
   ],
   "source": [
    "library(ggplot2)\n",
    "colnames(df) <- c(\"x\", \"y\", \"value\")\n",
    "ggplot(df, aes(x = x, y = y, fill = value)) + geom_tile()"
   ]
  }
 ],
 "metadata": {
  "kernelspec": {
   "display_name": "R4.2",
   "language": "R",
   "name": "ir4.2"
  },
  "language_info": {
   "codemirror_mode": "r",
   "file_extension": ".r",
   "mimetype": "text/x-r-source",
   "name": "R",
   "pygments_lexer": "r",
   "version": "4.2.0"
  },
  "orig_nbformat": 4
 },
 "nbformat": 4,
 "nbformat_minor": 2
}
